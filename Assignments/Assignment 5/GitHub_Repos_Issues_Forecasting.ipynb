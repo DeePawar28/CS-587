{
 "cells": [
  {
   "cell_type": "markdown",
   "id": "3d2cf1ab",
   "metadata": {},
   "source": [
    "<div class=\"alert alert-block alert-success\">\n",
    "\n",
    "## <center> Tracking Issues created for Repos on GitHub </center>\n",
    "## <center> Plot and Forecast Issues </center>\n",
    "    \n",
    "\n",
    "</div>"
   ]
  },
  {
   "cell_type": "markdown",
   "id": "f4b665a4",
   "metadata": {},
   "source": [
    "<div class=\"alert alert-block alert-danger\">\n",
    "    \n",
    "### Deliverables: \n",
    "- Submit a single ZIP file  that has the folowing items:\n",
    "    1. Your PDF document for the analysis report. \n",
    "    2. Your IPYNB script with the name GitHub_Repos_Issues_Forecasting.ipynb that has your source code and output for the requirements listed \n",
    "    2. Your HTML/PDF document that has your source code and output for the requirements listed \n",
    "\n",
    "<br>\n",
    "    \n",
    "</div>"
   ]
  },
  {
   "cell_type": "markdown",
   "id": "2fc78ea7",
   "metadata": {},
   "source": [
    "<hr style=\"border:2px solid black\"> </hr>\n",
    "<div class=\"alert alert-info\">\n",
    "\n",
    "\n",
    "\n",
    "        \n",
    "## REQUIREMENT 1\n",
    "\n",
    "Use Python/GitHub API to retrieve Issues/Repos information of the **past 2 years** for the following  repositories:\n",
    "- https://github.com/openai/openai-cookbook \n",
    "- https://github.com/elastic/elasticsearch \n",
    "- https://github.com/openai/openai-python\n",
    "- https://github.com/milvus-io/pymilvus/ \n",
    "- https://github.com/SebastianM/angular-google-maps\n",
    "\n",
    "\n",
    "    \n",
    "</div>\n",
    "\n"
   ]
  },
  {
   "cell_type": "code",
   "execution_count": 201,
   "id": "09565f1a",
   "metadata": {},
   "outputs": [],
   "source": [
    "import pandas as pd\n",
    "import numpy as np\n",
    "import matplotlib.pyplot as plt\n",
    "%matplotlib inline"
   ]
  },
  {
   "cell_type": "markdown",
   "id": "10c164f4",
   "metadata": {},
   "source": [
    "<hr style=\"border:1px solid black\"> </hr>\n",
    "\n",
    "<div class=\"alert alert-info\">   \n",
    "    \n",
    "## REQUIREMENT 2\n",
    "- A line chart to plot the issues for every repository\n",
    "    \n",
    "</div>\n"
   ]
  },
  {
   "cell_type": "code",
   "execution_count": 202,
   "id": "27bb62d2",
   "metadata": {},
   "outputs": [],
   "source": [
    "#Add your code for requirement 2 in this cell"
   ]
  },
  {
   "cell_type": "markdown",
   "id": "f2a726ee",
   "metadata": {},
   "source": [
    "<hr style=\"border:1px solid black\"> </hr>\n",
    "\n",
    "<div class=\"alert alert-info\">   \n",
    "    \n",
    "## REQUIREMENT 3\n",
    "- A bar chart to plot the issues created for every month for every repository\n",
    "    \n",
    "</div>"
   ]
  },
  {
   "cell_type": "code",
   "execution_count": null,
   "id": "2214f518",
   "metadata": {},
   "outputs": [],
   "source": [
    "#Add your code for requirement 3 in this cell"
   ]
  },
  {
   "cell_type": "markdown",
   "id": "69198cf0",
   "metadata": {},
   "source": [
    "<hr style=\"border:1px solid black\"> </hr>\n",
    "<div class=\"alert alert-info\">   \n",
    "    \n",
    "## REQUIREMENT 4\n",
    "- A bar chart to plot the starts for every repository\n",
    "    \n",
    "</div>"
   ]
  },
  {
   "cell_type": "code",
   "execution_count": null,
   "id": "eafabe47",
   "metadata": {},
   "outputs": [],
   "source": [
    "#Add your code for requirement 4 in this cell"
   ]
  },
  {
   "cell_type": "markdown",
   "id": "3777badc",
   "metadata": {},
   "source": [
    "<hr style=\"border:1px solid black\"> </hr>\n",
    "<div class=\"alert alert-info\">   \n",
    "    \n",
    "## REQUIREMENT 5\n",
    "- A bar chart to plot the forks for every repository\n",
    "    \n",
    "</div>"
   ]
  },
  {
   "cell_type": "code",
   "execution_count": null,
   "id": "bbbffff2",
   "metadata": {},
   "outputs": [],
   "source": [
    "#Add your code for requirement 5 in this cell"
   ]
  },
  {
   "cell_type": "markdown",
   "id": "03b3f513",
   "metadata": {},
   "source": [
    "<hr style=\"border:1px solid black\"> </hr>\n",
    "<div class=\"alert alert-info\">   \n",
    "    \n",
    "## REQUIREMENT 6\n",
    "- A bar chart to plot the issues closed for every week for every repository\n",
    "    \n",
    "</div>"
   ]
  },
  {
   "cell_type": "code",
   "execution_count": null,
   "id": "abdeea6d",
   "metadata": {},
   "outputs": [],
   "source": [
    "#Add your code for requirement 6 in this cell"
   ]
  },
  {
   "cell_type": "markdown",
   "id": "71d3b071",
   "metadata": {},
   "source": [
    "<hr style=\"border:1px solid black\"> </hr>\n",
    "<div class=\"alert alert-info\">   \n",
    "    \n",
    "## REQUIREMENT 7\n",
    "- A stack-bar Chart to plot the created and closed issues for every repository\n",
    "    \n",
    "</div>"
   ]
  },
  {
   "cell_type": "code",
   "execution_count": null,
   "id": "c8f1f092",
   "metadata": {},
   "outputs": [],
   "source": [
    "#Add your code for requirement 7 in this cell"
   ]
  },
  {
   "cell_type": "markdown",
   "id": "8a7c5019",
   "metadata": {},
   "source": [
    "<hr style=\"border:1px solid black\"> </hr>\n",
    "<div class=\"alert alert-info\">   \n",
    "    \n",
    "## REQUIREMENT 8 (FACEBOOK/PROPHET)\n",
    "- Use Facebook/Prophet package to forecast the following for every repository\n",
    "    \n",
    "</div>"
   ]
  },
  {
   "cell_type": "markdown",
   "id": "17bcb49a",
   "metadata": {},
   "source": [
    "<div class=\"alert alert-block alert-success\">   \n",
    "    \n",
    "#### REQ8-1). The day of the week maximum number of issues created \n",
    "    \n",
    "</div>"
   ]
  },
  {
   "cell_type": "code",
   "execution_count": null,
   "id": "3715ccc4",
   "metadata": {},
   "outputs": [],
   "source": [
    "#Add your code for requirement 8.1 in this cell"
   ]
  },
  {
   "cell_type": "markdown",
   "id": "5822026d",
   "metadata": {},
   "source": [
    "<div class=\"alert alert-block alert-success\">   \n",
    "    \n",
    "#### REQ8-2). The day of the week maximum number of issues closed \n",
    "\n",
    "</div>"
   ]
  },
  {
   "cell_type": "code",
   "execution_count": null,
   "id": "40e85a78",
   "metadata": {},
   "outputs": [],
   "source": [
    "#Add your code for requirement 8.2 in this cell"
   ]
  },
  {
   "cell_type": "markdown",
   "id": "517c30d8",
   "metadata": {},
   "source": [
    "<div class=\"alert alert-block alert-success\">   \n",
    "    \n",
    "#### REQ8-3). The month of the year that has maximum number of issues closed \n",
    "\n",
    "\n",
    "</div>"
   ]
  },
  {
   "cell_type": "code",
   "execution_count": null,
   "id": "17f30944",
   "metadata": {},
   "outputs": [],
   "source": [
    "#Add your code for requirement 8.3 in this cell"
   ]
  },
  {
   "cell_type": "markdown",
   "id": "998bff52",
   "metadata": {},
   "source": [
    "<div class=\"alert alert-block alert-success\">   \n",
    "    \n",
    "#### REQ8-4). Plot the created issues forecast \n",
    "\n",
    "</div>"
   ]
  },
  {
   "cell_type": "code",
   "execution_count": null,
   "id": "4cb7fa57",
   "metadata": {},
   "outputs": [],
   "source": [
    "#Add your code for requirement 8.4 in this cell"
   ]
  },
  {
   "cell_type": "markdown",
   "id": "c81858e1",
   "metadata": {},
   "source": [
    "<div class=\"alert alert-block alert-success\">   \n",
    "    \n",
    "#### REQ8-5). Plot the closed issues forecast \n",
    "\n",
    "</div>"
   ]
  },
  {
   "cell_type": "code",
   "execution_count": null,
   "id": "ab2dc9aa",
   "metadata": {},
   "outputs": [],
   "source": [
    "#Add your code for requirement 8.5 in this cell"
   ]
  },
  {
   "cell_type": "markdown",
   "id": "368e02da",
   "metadata": {},
   "source": [
    "<div class=\"alert alert-block alert-success\">   \n",
    "    \n",
    "#### REQ8-6). Plot the pulls forecast \n",
    "\n",
    "</div>"
   ]
  },
  {
   "cell_type": "code",
   "execution_count": null,
   "id": "ef8fdb49",
   "metadata": {},
   "outputs": [],
   "source": [
    "#Add your code for requirement 8.6 in this cell"
   ]
  },
  {
   "cell_type": "markdown",
   "id": "09dddebc",
   "metadata": {},
   "source": [
    "<div class=\"alert alert-block alert-success\">   \n",
    "    \n",
    "#### REQ8-7). Plot the commits forecast\n",
    "\n",
    "</div>"
   ]
  },
  {
   "cell_type": "code",
   "execution_count": null,
   "id": "184c855a",
   "metadata": {},
   "outputs": [],
   "source": [
    "#Add your code for requirement 8.7 in this cell"
   ]
  },
  {
   "cell_type": "markdown",
   "id": "6a527fd4",
   "metadata": {},
   "source": [
    "<div class=\"alert alert-block alert-success\">   \n",
    "    \n",
    "#### REQ8-8). Plot the branches forecast\n",
    "\n",
    "</div>"
   ]
  },
  {
   "cell_type": "code",
   "execution_count": null,
   "id": "2ca90c87",
   "metadata": {},
   "outputs": [],
   "source": [
    "#Add your code for requirement 8.8 in this cell"
   ]
  },
  {
   "cell_type": "markdown",
   "id": "3b1b20dc",
   "metadata": {},
   "source": [
    "<div class=\"alert alert-block alert-success\">   \n",
    "    \n",
    "#### REQ8-9). Plot the contributors forecast\n",
    "\n",
    "</div>"
   ]
  },
  {
   "cell_type": "code",
   "execution_count": null,
   "id": "a5f257a2",
   "metadata": {},
   "outputs": [],
   "source": [
    "#Add your code for requirement 8.9 in this cell"
   ]
  },
  {
   "cell_type": "markdown",
   "id": "b469ea52",
   "metadata": {},
   "source": [
    "<div class=\"alert alert-block alert-success\">   \n",
    "    \n",
    "#### REQ8-10). Plot the releases forecast\n",
    "\n",
    "</div>"
   ]
  },
  {
   "cell_type": "code",
   "execution_count": null,
   "id": "ebe39339",
   "metadata": {},
   "outputs": [],
   "source": [
    "#Add your code for requirement 8.10 in this cell"
   ]
  },
  {
   "cell_type": "markdown",
   "id": "78f80d73",
   "metadata": {},
   "source": [
    "<hr style=\"border:1px solid black\"> </hr>\n",
    "<div class=\"alert alert-info\">   \n",
    "    \n",
    "## REQUIREMENT 8 (TENSORFLOW/KERAS LSTM)\n",
    "- Use TensorFlow/Keras LSTM package to forecast the following for every repository\n",
    "    \n",
    "</div>"
   ]
  },
  {
   "cell_type": "markdown",
   "id": "763aa16d",
   "metadata": {},
   "source": [
    "<div class=\"alert alert-block alert-warning\">   \n",
    "    \n",
    "#### REQ8-1). The day of the week maximum number of issues created \n",
    "    \n",
    "</div>"
   ]
  },
  {
   "cell_type": "code",
   "execution_count": null,
   "id": "231e2d5f",
   "metadata": {},
   "outputs": [],
   "source": [
    "#Add your code for requirement 8.1 in this cell"
   ]
  },
  {
   "cell_type": "markdown",
   "id": "60c264ff",
   "metadata": {},
   "source": [
    "<div class=\"alert alert-block alert-warning\">   \n",
    "    \n",
    "#### REQ8-2). The day of the week maximum number of issues closed \n",
    "\n",
    "</div>"
   ]
  },
  {
   "cell_type": "code",
   "execution_count": null,
   "id": "b82c2c8c",
   "metadata": {},
   "outputs": [],
   "source": [
    "#Add your code for requirement 8.2 in this cell"
   ]
  },
  {
   "cell_type": "markdown",
   "id": "206afc9f",
   "metadata": {},
   "source": [
    "<div class=\"alert alert-block alert-warning\">   \n",
    "    \n",
    "#### REQ8-3). The month of the year that has maximum number of issues closed \n",
    "\n",
    "\n",
    "</div>"
   ]
  },
  {
   "cell_type": "code",
   "execution_count": null,
   "id": "fb83cf9a",
   "metadata": {},
   "outputs": [],
   "source": [
    "#Add your code for requirement 8.3 in this cell"
   ]
  },
  {
   "cell_type": "markdown",
   "id": "70a3a38d",
   "metadata": {},
   "source": [
    "<div class=\"alert alert-block alert-warning\">   \n",
    "    \n",
    "#### REQ8-4). Plot the created issues forecast \n",
    "\n",
    "</div>"
   ]
  },
  {
   "cell_type": "code",
   "execution_count": null,
   "id": "03124952",
   "metadata": {},
   "outputs": [],
   "source": [
    "#Add your code for requirement 8.4 in this cell"
   ]
  },
  {
   "cell_type": "markdown",
   "id": "7c922178",
   "metadata": {},
   "source": [
    "<div class=\"alert alert-block alert-warning\">   \n",
    "    \n",
    "#### REQ8-5). Plot the closed issues forecast \n",
    "\n",
    "</div>"
   ]
  },
  {
   "cell_type": "code",
   "execution_count": null,
   "id": "1e6cf722",
   "metadata": {},
   "outputs": [],
   "source": [
    "#Add your code for requirement 8.5 in this cell"
   ]
  },
  {
   "cell_type": "markdown",
   "id": "5dd60c8e",
   "metadata": {},
   "source": [
    "<div class=\"alert alert-block alert-warning\">   \n",
    "    \n",
    "#### REQ8-6). Plot the pulls forecast \n",
    "\n",
    "</div>"
   ]
  },
  {
   "cell_type": "code",
   "execution_count": null,
   "id": "aa9013a8",
   "metadata": {},
   "outputs": [],
   "source": [
    "#Add your code for requirement 8.6 in this cell"
   ]
  },
  {
   "cell_type": "markdown",
   "id": "ebd90531",
   "metadata": {},
   "source": [
    "<div class=\"alert alert-block alert-warning\">   \n",
    "    \n",
    "#### REQ8-7). Plot the commits forecast\n",
    "\n",
    "</div>"
   ]
  },
  {
   "cell_type": "code",
   "execution_count": null,
   "id": "19104446",
   "metadata": {},
   "outputs": [],
   "source": [
    "#Add your code for requirement 8.7 in this cell"
   ]
  },
  {
   "cell_type": "markdown",
   "id": "f8e55889",
   "metadata": {},
   "source": [
    "<div class=\"alert alert-block alert-warning\">   \n",
    "    \n",
    "#### REQ8-8). Plot the branches forecast\n",
    "\n",
    "</div>"
   ]
  },
  {
   "cell_type": "code",
   "execution_count": null,
   "id": "e2eb3acd",
   "metadata": {},
   "outputs": [],
   "source": [
    "#Add your code for requirement 8.8 in this cell"
   ]
  },
  {
   "cell_type": "markdown",
   "id": "3f488d20",
   "metadata": {},
   "source": [
    "<div class=\"alert alert-block alert-warning\">   \n",
    "    \n",
    "#### REQ8-9). Plot the contributors forecast\n",
    "\n",
    "</div>"
   ]
  },
  {
   "cell_type": "code",
   "execution_count": null,
   "id": "dcf7dd7a",
   "metadata": {},
   "outputs": [],
   "source": [
    "#Add your code for requirement 8.9 in this cell"
   ]
  },
  {
   "cell_type": "markdown",
   "id": "fa118154",
   "metadata": {},
   "source": [
    "<div class=\"alert alert-block alert-warning\">   \n",
    "    \n",
    "#### REQ8-10). Plot the releases forecast\n",
    "\n",
    "</div>"
   ]
  },
  {
   "cell_type": "code",
   "execution_count": null,
   "id": "0e691777",
   "metadata": {},
   "outputs": [],
   "source": [
    "#Add your code for requirement 8.10 in this cell"
   ]
  },
  {
   "cell_type": "markdown",
   "id": "4938cda6",
   "metadata": {},
   "source": [
    "<hr style=\"border:1px solid black\"> </hr>\n",
    "<div class=\"alert alert-info\">   \n",
    "    \n",
    "## REQUIREMENT 8 (STATSMODEL)\n",
    "- Use StatsModel package to forecast the following for every repository\n",
    "    \n",
    "</div>"
   ]
  },
  {
   "cell_type": "markdown",
   "id": "c6405146",
   "metadata": {},
   "source": [
    "<div class=\"alert alert-block alert-danger\">   \n",
    "    \n",
    "#### REQ8-1). The day of the week maximum number of issues created \n",
    "    \n",
    "</div>"
   ]
  },
  {
   "cell_type": "code",
   "execution_count": null,
   "id": "ffe1b39b",
   "metadata": {},
   "outputs": [],
   "source": [
    "#Add your code for requirement 8.1 in this cell"
   ]
  },
  {
   "cell_type": "markdown",
   "id": "ff9a0741",
   "metadata": {},
   "source": [
    "<div class=\"alert alert-block alert-danger\">   \n",
    "    \n",
    "#### REQ8-2). The day of the week maximum number of issues closed \n",
    "\n",
    "</div>"
   ]
  },
  {
   "cell_type": "code",
   "execution_count": null,
   "id": "dccfd5ae",
   "metadata": {},
   "outputs": [],
   "source": [
    "#Add your code for requirement 8.2 in this cell"
   ]
  },
  {
   "cell_type": "markdown",
   "id": "cbc83905",
   "metadata": {},
   "source": [
    "<div class=\"alert alert-block alert-danger\">   \n",
    "    \n",
    "#### REQ8-3). The month of the year that has maximum number of issues closed \n",
    "\n",
    "\n",
    "</div>"
   ]
  },
  {
   "cell_type": "code",
   "execution_count": null,
   "id": "79edd380",
   "metadata": {},
   "outputs": [],
   "source": [
    "#Add your code for requirement 8.3 in this cell"
   ]
  },
  {
   "cell_type": "markdown",
   "id": "a22f45d8",
   "metadata": {},
   "source": [
    "<div class=\"alert alert-block alert-danger\">   \n",
    "    \n",
    "#### REQ8-4). Plot the created issues forecast \n",
    "\n",
    "</div>"
   ]
  },
  {
   "cell_type": "code",
   "execution_count": null,
   "id": "6106cf96",
   "metadata": {},
   "outputs": [],
   "source": [
    "#Add your code for requirement 8.4 in this cell"
   ]
  },
  {
   "cell_type": "markdown",
   "id": "7182cc66",
   "metadata": {},
   "source": [
    "<div class=\"alert alert-block alert-danger\">   \n",
    "    \n",
    "#### REQ8-5). Plot the closed issues forecast \n",
    "\n",
    "</div>"
   ]
  },
  {
   "cell_type": "code",
   "execution_count": null,
   "id": "155ec841",
   "metadata": {},
   "outputs": [],
   "source": [
    "#Add your code for requirement 8.5 in this cell"
   ]
  },
  {
   "cell_type": "markdown",
   "id": "4a35ce4e",
   "metadata": {},
   "source": [
    "<div class=\"alert alert-block alert-danger\">   \n",
    "    \n",
    "#### REQ8-6). Plot the pulls forecast \n",
    "\n",
    "</div>"
   ]
  },
  {
   "cell_type": "code",
   "execution_count": null,
   "id": "49a51c4c",
   "metadata": {},
   "outputs": [],
   "source": [
    "#Add your code for requirement 8.6 in this cell"
   ]
  },
  {
   "cell_type": "markdown",
   "id": "5a5de47e",
   "metadata": {},
   "source": [
    "<div class=\"alert alert-block alert-danger\">   \n",
    "    \n",
    "#### REQ8-7). Plot the commits forecast\n",
    "\n",
    "</div>"
   ]
  },
  {
   "cell_type": "code",
   "execution_count": null,
   "id": "394f2d9b",
   "metadata": {},
   "outputs": [],
   "source": [
    "#Add your code for requirement 8.7 in this cell"
   ]
  },
  {
   "cell_type": "markdown",
   "id": "b051f321",
   "metadata": {},
   "source": [
    "<div class=\"alert alert-block alert-danger\">   \n",
    "    \n",
    "#### REQ8-8). Plot the branches forecast\n",
    "\n",
    "</div>"
   ]
  },
  {
   "cell_type": "code",
   "execution_count": null,
   "id": "5b413e55",
   "metadata": {},
   "outputs": [],
   "source": [
    "#Add your code for requirement 8.8 in this cell"
   ]
  },
  {
   "cell_type": "markdown",
   "id": "36f9ee59",
   "metadata": {},
   "source": [
    "<div class=\"alert alert-block alert-danger\">   \n",
    "    \n",
    "#### REQ8-9). Plot the contributors forecast\n",
    "\n",
    "</div>"
   ]
  },
  {
   "cell_type": "code",
   "execution_count": null,
   "id": "d37bb730",
   "metadata": {},
   "outputs": [],
   "source": [
    "#Add your code for requirement 8.9 in this cell"
   ]
  },
  {
   "cell_type": "markdown",
   "id": "12f3fe00",
   "metadata": {},
   "source": [
    "<div class=\"alert alert-block alert-danger\">   \n",
    "    \n",
    "#### REQ8-10). Plot the releases forecast\n",
    "\n",
    "</div>"
   ]
  },
  {
   "cell_type": "code",
   "execution_count": null,
   "id": "4172615c",
   "metadata": {},
   "outputs": [],
   "source": [
    "#Add your code for requirement 8.10 in this cell"
   ]
  }
 ],
 "metadata": {
  "kernelspec": {
   "display_name": "Python 3 (ipykernel)",
   "language": "python",
   "name": "python3"
  },
  "language_info": {
   "codemirror_mode": {
    "name": "ipython",
    "version": 3
   },
   "file_extension": ".py",
   "mimetype": "text/x-python",
   "name": "python",
   "nbconvert_exporter": "python",
   "pygments_lexer": "ipython3",
   "version": "3.11.5"
  }
 },
 "nbformat": 4,
 "nbformat_minor": 5
}
